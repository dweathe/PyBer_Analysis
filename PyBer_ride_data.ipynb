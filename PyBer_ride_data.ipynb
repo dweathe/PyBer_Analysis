{
 "cells": [
  {
   "cell_type": "code",
   "execution_count": 1,
   "metadata": {},
   "outputs": [],
   "source": [
    "%matplotlib inline"
   ]
  },
  {
   "cell_type": "code",
   "execution_count": 3,
   "metadata": {},
   "outputs": [
    {
     "ename": "SyntaxError",
     "evalue": "invalid syntax (<ipython-input-3-25a54f78db66>, line 2)",
     "output_type": "error",
     "traceback": [
      "\u001b[0;36m  File \u001b[0;32m\"<ipython-input-3-25a54f78db66>\"\u001b[0;36m, line \u001b[0;32m2\u001b[0m\n\u001b[0;31m    matplotlib.pyplot as plt\u001b[0m\n\u001b[0m                       ^\u001b[0m\n\u001b[0;31mSyntaxError\u001b[0m\u001b[0;31m:\u001b[0m invalid syntax\n"
     ]
    }
   ],
   "source": [
    "#Dependencies\n",
    "matplotlib.pyplot as plt\n",
    "numpy as np\n",
    "pandas as pd\n",
    "#Load in csv\n",
    "pyber_ride_df = pd.read_csv(\"PyBer_ride_data.csv\")\n",
    "pyber_ride_df\n"
   ]
  },
  {
   "cell_type": "code",
   "execution_count": null,
   "metadata": {},
   "outputs": [],
   "source": [
    "matplotlib.pyplot as plt\n",
    "numpy as np\n",
    "pandas as pd\n",
    "\n",
    "# Set x-axis and tick locations.\n",
    "x_axis = np.arange(len(pyber_ride_df))\n",
    "tick_locations = [value for value in x_axis]\n",
    "# Plot the data.\n",
    "pyber_ride_df.plot(x=\"Month\", y=\"Avg. Fare ($USD)\")\n",
    "plt.xticks(tick_locations, pyber_ride_df[\"Month\"])\n",
    "plt.show()"
   ]
  },
  {
   "cell_type": "code",
   "execution_count": null,
   "metadata": {},
   "outputs": [],
   "source": [
    "pyber_ride_df.plot.bar(x=\"Month\", y=\"Avg. Fare ($USD)\")\n",
    "plt.show()"
   ]
  },
  {
   "cell_type": "code",
   "execution_count": null,
   "metadata": {},
   "outputs": [],
   "source": []
  }
 ],
 "metadata": {
  "kernelspec": {
   "display_name": "PythonData",
   "language": "python",
   "name": "pythondata"
  },
  "language_info": {
   "codemirror_mode": {
    "name": "ipython",
    "version": 3
   },
   "file_extension": ".py",
   "mimetype": "text/x-python",
   "name": "python",
   "nbconvert_exporter": "python",
   "pygments_lexer": "ipython3",
   "version": "3.7.9"
  }
 },
 "nbformat": 4,
 "nbformat_minor": 4
}
